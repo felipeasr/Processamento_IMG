{
  "nbformat": 4,
  "nbformat_minor": 0,
  "metadata": {
    "colab": {
      "name": "Processamento de Imagens ",
      "provenance": [],
      "authorship_tag": "ABX9TyNYfMG5iNNZ6NX9S/57sa2f",
      "include_colab_link": true
    },
    "kernelspec": {
      "name": "python3",
      "display_name": "Python 3"
    }
  },
  "cells": [
    {
      "cell_type": "markdown",
      "metadata": {
        "id": "view-in-github",
        "colab_type": "text"
      },
      "source": [
        "<a href=\"https://colab.research.google.com/github/felipeasr/Processamento_IMG/blob/master/Processamento_de_Imagens.ipynb\" target=\"_parent\"><img src=\"https://colab.research.google.com/assets/colab-badge.svg\" alt=\"Open In Colab\"/></a>"
      ]
    },
    {
      "cell_type": "markdown",
      "metadata": {
        "id": "G4y0u8z0muAJ",
        "colab_type": "text"
      },
      "source": [
        "## **[Imagem 1](https://http2.mlstatic.com/spitz-alemao-macho-filhote-cachorro-branco-tricolor-babyface-D_NQ_NP_765421-MLB32010092464_082019-F.jpg)**"
      ]
    },
    {
      "cell_type": "code",
      "metadata": {
        "id": "1nmMqcAYpjHd",
        "colab_type": "code",
        "colab": {}
      },
      "source": [
        "import cv2\n",
        "import matplotlib.pyplot as plt\n",
        "import numpy as np\n",
        "%matplotlib inline\n"
      ],
      "execution_count": 1,
      "outputs": []
    },
    {
      "cell_type": "code",
      "metadata": {
        "id": "k4Wey12EmUuk",
        "colab_type": "code",
        "colab": {}
      },
      "source": [
        "#carregando imagem\n",
        "img = cv2.imread('Imagem1.jpg', cv2.IMREAD_GRAYSCALE)  \n",
        "plt.imshow(img, cmap='gray', vmin=0, vmax=255)"
      ],
      "execution_count": null,
      "outputs": []
    },
    {
      "cell_type": "code",
      "metadata": {
        "id": "lCAPfxS6mbyn",
        "colab_type": "code",
        "colab": {}
      },
      "source": [
        "#Propriedades da Imagem \n",
        "altura, largura = img.shape # altura é o nº de linhas da matriz, largura é o nº de colunas\n",
        "\n",
        "print('Altura: {} px'.format(altura))\n",
        "print('Largura: {} px\\n\\n'.format(largura))\n",
        "print('Matriz bidimensional da imagem: \\n\\n', img)\n"
      ],
      "execution_count": null,
      "outputs": []
    },
    {
      "cell_type": "code",
      "metadata": {
        "id": "DVJ5NeH4n4iO",
        "colab_type": "code",
        "colab": {}
      },
      "source": [
        "#corte na imagem, selcianando região \n",
        "# slice\n",
        "# imagem[altura/linha inicial:altura/linha final, largura/coluna inicial:largura/coluna final]\n",
        "\n",
        "roi = img[10:10,70:220]\n",
        "plt.imshow(roi, cmap='gray', vmin=0, vmax=255)"
      ],
      "execution_count": null,
      "outputs": []
    },
    {
      "cell_type": "code",
      "metadata": {
        "id": "FRyXfACmoKy_",
        "colab_type": "code",
        "colab": {}
      },
      "source": [
        "#rotacionando imagem \n",
        "roi_flip_vertical = roi[::-1,::] #imagem[altura/linha inicial:altura/linha final:-1(inverte a leitura), largura/coluna inicial:largura/coluna final:]\n",
        "roi_flip_horizontal = roi[::,::-1]\n",
        "\n",
        "plt.figure(figsize=(10,5))\n",
        "\n",
        "plt.subplot(1,3,1)\n",
        "plt.title('Original')\n",
        "plt.imshow(roi, cmap='gray', vmin=0, vmax=255)\n",
        "\n",
        "plt.subplot(1,3,2)\n",
        "plt.title('Vertical')\n",
        "plt.imshow(roi_flip_vertical, cmap='gray', vmin=0, vmax=255)\n",
        "\n",
        "plt.subplot(1,3,3)\n",
        "plt.title('Horizontal')\n",
        "plt.imshow(roi_flip_horizontal, cmap='gray', vmin=0, vmax=255)\n",
        "\n",
        "\n",
        "plt.tight_layout()"
      ],
      "execution_count": null,
      "outputs": []
    },
    {
      "cell_type": "code",
      "metadata": {
        "id": "c6v87d8doVi8",
        "colab_type": "code",
        "colab": {}
      },
      "source": [
        "#Normalização da imagem \n",
        "#Normalização é o processo de mudar a faixa de valores de intensidade dos pixels de uma imagem. O processo acaba \"normalizando\" a intensidade para níveis mais naturais.\n",
        "def normalizacao(img):\n",
        "    return (img-img.min())/(img.max()-img.min())\n",
        "\n",
        "img_normalizada = normalizacao(img)\n",
        "\n",
        "print (\"Menor valor de intensidade pré-normalização: {}\".format(img.min()))\n",
        "print (\"Maior valor de intensidade pré-normalização: {}\".format(img.max()))\n",
        "print (\"Menor valor de intensidade pós-normalização: {}\".format(img_normalizada.min()))\n",
        "print (\"Maior valor de intensidade pós-normalização: {}\".format(img_normalizada.max()))\n"
      ],
      "execution_count": null,
      "outputs": []
    },
    {
      "cell_type": "code",
      "metadata": {
        "id": "OBGCLCPIo3wK",
        "colab_type": "code",
        "colab": {}
      },
      "source": [
        ""
      ],
      "execution_count": null,
      "outputs": []
    }
  ]
}